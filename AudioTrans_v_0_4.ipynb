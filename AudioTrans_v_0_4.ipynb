{
  "nbformat": 4,
  "nbformat_minor": 0,
  "metadata": {
    "colab": {
      "provenance": [],
      "collapsed_sections": [
        "hymk8yyLRqKR",
        "vY4lC3aroJCk",
        "NR2g70dnCITy"
      ],
      "authorship_tag": "ABX9TyMtroAjSJ0UL75Mfn0BAvdo",
      "include_colab_link": true
    },
    "kernelspec": {
      "name": "python3",
      "display_name": "Python 3"
    },
    "language_info": {
      "name": "python"
    },
    "widgets": {
      "application/vnd.jupyter.widget-state+json": {
        "22123b0ec9d84e2386b15b43dadd25cb": {
          "model_module": "@jupyter-widgets/controls",
          "model_name": "HBoxModel",
          "model_module_version": "1.5.0",
          "state": {
            "_dom_classes": [],
            "_model_module": "@jupyter-widgets/controls",
            "_model_module_version": "1.5.0",
            "_model_name": "HBoxModel",
            "_view_count": null,
            "_view_module": "@jupyter-widgets/controls",
            "_view_module_version": "1.5.0",
            "_view_name": "HBoxView",
            "box_style": "",
            "children": [
              "IPY_MODEL_0e5131aa6f2b4c608f9452673f7b02e2",
              "IPY_MODEL_0cbeb94ff8a448e387877907ce13397a",
              "IPY_MODEL_f1c1a18d436446edae24f2b372ab2a4a"
            ],
            "layout": "IPY_MODEL_6f23e0ef125b419d8e1038f576ade252"
          }
        },
        "0e5131aa6f2b4c608f9452673f7b02e2": {
          "model_module": "@jupyter-widgets/controls",
          "model_name": "HTMLModel",
          "model_module_version": "1.5.0",
          "state": {
            "_dom_classes": [],
            "_model_module": "@jupyter-widgets/controls",
            "_model_module_version": "1.5.0",
            "_model_name": "HTMLModel",
            "_view_count": null,
            "_view_module": "@jupyter-widgets/controls",
            "_view_module_version": "1.5.0",
            "_view_name": "HTMLView",
            "description": "",
            "description_tooltip": null,
            "layout": "IPY_MODEL_b6740a9103da4f40b02bb10456e38e27",
            "placeholder": "​",
            "style": "IPY_MODEL_c02989c1a8eb49c5975c36e60081ac3c",
            "value": "100%"
          }
        },
        "0cbeb94ff8a448e387877907ce13397a": {
          "model_module": "@jupyter-widgets/controls",
          "model_name": "FloatProgressModel",
          "model_module_version": "1.5.0",
          "state": {
            "_dom_classes": [],
            "_model_module": "@jupyter-widgets/controls",
            "_model_module_version": "1.5.0",
            "_model_name": "FloatProgressModel",
            "_view_count": null,
            "_view_module": "@jupyter-widgets/controls",
            "_view_module_version": "1.5.0",
            "_view_name": "ProgressView",
            "bar_style": "success",
            "description": "",
            "description_tooltip": null,
            "layout": "IPY_MODEL_a5c5ef1318ef415f9ef9d6d9f554590c",
            "max": 3,
            "min": 0,
            "orientation": "horizontal",
            "style": "IPY_MODEL_4f60038de7b64026956f7221de84b0c8",
            "value": 3
          }
        },
        "f1c1a18d436446edae24f2b372ab2a4a": {
          "model_module": "@jupyter-widgets/controls",
          "model_name": "HTMLModel",
          "model_module_version": "1.5.0",
          "state": {
            "_dom_classes": [],
            "_model_module": "@jupyter-widgets/controls",
            "_model_module_version": "1.5.0",
            "_model_name": "HTMLModel",
            "_view_count": null,
            "_view_module": "@jupyter-widgets/controls",
            "_view_module_version": "1.5.0",
            "_view_name": "HTMLView",
            "description": "",
            "description_tooltip": null,
            "layout": "IPY_MODEL_695bbb3b922f41379bcb3295049db3d0",
            "placeholder": "​",
            "style": "IPY_MODEL_0e68d1d1b3cc4718b4f3577f65e4b89f",
            "value": " 3/3 [03:03&lt;00:00, 51.27s/it]"
          }
        },
        "6f23e0ef125b419d8e1038f576ade252": {
          "model_module": "@jupyter-widgets/base",
          "model_name": "LayoutModel",
          "model_module_version": "1.2.0",
          "state": {
            "_model_module": "@jupyter-widgets/base",
            "_model_module_version": "1.2.0",
            "_model_name": "LayoutModel",
            "_view_count": null,
            "_view_module": "@jupyter-widgets/base",
            "_view_module_version": "1.2.0",
            "_view_name": "LayoutView",
            "align_content": null,
            "align_items": null,
            "align_self": null,
            "border": null,
            "bottom": null,
            "display": null,
            "flex": null,
            "flex_flow": null,
            "grid_area": null,
            "grid_auto_columns": null,
            "grid_auto_flow": null,
            "grid_auto_rows": null,
            "grid_column": null,
            "grid_gap": null,
            "grid_row": null,
            "grid_template_areas": null,
            "grid_template_columns": null,
            "grid_template_rows": null,
            "height": null,
            "justify_content": null,
            "justify_items": null,
            "left": null,
            "margin": null,
            "max_height": null,
            "max_width": null,
            "min_height": null,
            "min_width": null,
            "object_fit": null,
            "object_position": null,
            "order": null,
            "overflow": null,
            "overflow_x": null,
            "overflow_y": null,
            "padding": null,
            "right": null,
            "top": null,
            "visibility": null,
            "width": null
          }
        },
        "b6740a9103da4f40b02bb10456e38e27": {
          "model_module": "@jupyter-widgets/base",
          "model_name": "LayoutModel",
          "model_module_version": "1.2.0",
          "state": {
            "_model_module": "@jupyter-widgets/base",
            "_model_module_version": "1.2.0",
            "_model_name": "LayoutModel",
            "_view_count": null,
            "_view_module": "@jupyter-widgets/base",
            "_view_module_version": "1.2.0",
            "_view_name": "LayoutView",
            "align_content": null,
            "align_items": null,
            "align_self": null,
            "border": null,
            "bottom": null,
            "display": null,
            "flex": null,
            "flex_flow": null,
            "grid_area": null,
            "grid_auto_columns": null,
            "grid_auto_flow": null,
            "grid_auto_rows": null,
            "grid_column": null,
            "grid_gap": null,
            "grid_row": null,
            "grid_template_areas": null,
            "grid_template_columns": null,
            "grid_template_rows": null,
            "height": null,
            "justify_content": null,
            "justify_items": null,
            "left": null,
            "margin": null,
            "max_height": null,
            "max_width": null,
            "min_height": null,
            "min_width": null,
            "object_fit": null,
            "object_position": null,
            "order": null,
            "overflow": null,
            "overflow_x": null,
            "overflow_y": null,
            "padding": null,
            "right": null,
            "top": null,
            "visibility": null,
            "width": null
          }
        },
        "c02989c1a8eb49c5975c36e60081ac3c": {
          "model_module": "@jupyter-widgets/controls",
          "model_name": "DescriptionStyleModel",
          "model_module_version": "1.5.0",
          "state": {
            "_model_module": "@jupyter-widgets/controls",
            "_model_module_version": "1.5.0",
            "_model_name": "DescriptionStyleModel",
            "_view_count": null,
            "_view_module": "@jupyter-widgets/base",
            "_view_module_version": "1.2.0",
            "_view_name": "StyleView",
            "description_width": ""
          }
        },
        "a5c5ef1318ef415f9ef9d6d9f554590c": {
          "model_module": "@jupyter-widgets/base",
          "model_name": "LayoutModel",
          "model_module_version": "1.2.0",
          "state": {
            "_model_module": "@jupyter-widgets/base",
            "_model_module_version": "1.2.0",
            "_model_name": "LayoutModel",
            "_view_count": null,
            "_view_module": "@jupyter-widgets/base",
            "_view_module_version": "1.2.0",
            "_view_name": "LayoutView",
            "align_content": null,
            "align_items": null,
            "align_self": null,
            "border": null,
            "bottom": null,
            "display": null,
            "flex": null,
            "flex_flow": null,
            "grid_area": null,
            "grid_auto_columns": null,
            "grid_auto_flow": null,
            "grid_auto_rows": null,
            "grid_column": null,
            "grid_gap": null,
            "grid_row": null,
            "grid_template_areas": null,
            "grid_template_columns": null,
            "grid_template_rows": null,
            "height": null,
            "justify_content": null,
            "justify_items": null,
            "left": null,
            "margin": null,
            "max_height": null,
            "max_width": null,
            "min_height": null,
            "min_width": null,
            "object_fit": null,
            "object_position": null,
            "order": null,
            "overflow": null,
            "overflow_x": null,
            "overflow_y": null,
            "padding": null,
            "right": null,
            "top": null,
            "visibility": null,
            "width": null
          }
        },
        "4f60038de7b64026956f7221de84b0c8": {
          "model_module": "@jupyter-widgets/controls",
          "model_name": "ProgressStyleModel",
          "model_module_version": "1.5.0",
          "state": {
            "_model_module": "@jupyter-widgets/controls",
            "_model_module_version": "1.5.0",
            "_model_name": "ProgressStyleModel",
            "_view_count": null,
            "_view_module": "@jupyter-widgets/base",
            "_view_module_version": "1.2.0",
            "_view_name": "StyleView",
            "bar_color": null,
            "description_width": ""
          }
        },
        "695bbb3b922f41379bcb3295049db3d0": {
          "model_module": "@jupyter-widgets/base",
          "model_name": "LayoutModel",
          "model_module_version": "1.2.0",
          "state": {
            "_model_module": "@jupyter-widgets/base",
            "_model_module_version": "1.2.0",
            "_model_name": "LayoutModel",
            "_view_count": null,
            "_view_module": "@jupyter-widgets/base",
            "_view_module_version": "1.2.0",
            "_view_name": "LayoutView",
            "align_content": null,
            "align_items": null,
            "align_self": null,
            "border": null,
            "bottom": null,
            "display": null,
            "flex": null,
            "flex_flow": null,
            "grid_area": null,
            "grid_auto_columns": null,
            "grid_auto_flow": null,
            "grid_auto_rows": null,
            "grid_column": null,
            "grid_gap": null,
            "grid_row": null,
            "grid_template_areas": null,
            "grid_template_columns": null,
            "grid_template_rows": null,
            "height": null,
            "justify_content": null,
            "justify_items": null,
            "left": null,
            "margin": null,
            "max_height": null,
            "max_width": null,
            "min_height": null,
            "min_width": null,
            "object_fit": null,
            "object_position": null,
            "order": null,
            "overflow": null,
            "overflow_x": null,
            "overflow_y": null,
            "padding": null,
            "right": null,
            "top": null,
            "visibility": null,
            "width": null
          }
        },
        "0e68d1d1b3cc4718b4f3577f65e4b89f": {
          "model_module": "@jupyter-widgets/controls",
          "model_name": "DescriptionStyleModel",
          "model_module_version": "1.5.0",
          "state": {
            "_model_module": "@jupyter-widgets/controls",
            "_model_module_version": "1.5.0",
            "_model_name": "DescriptionStyleModel",
            "_view_count": null,
            "_view_module": "@jupyter-widgets/base",
            "_view_module_version": "1.2.0",
            "_view_name": "StyleView",
            "description_width": ""
          }
        },
        "75dfe25e95c94ca1b2fe7894ac3dd379": {
          "model_module": "@jupyter-widgets/controls",
          "model_name": "HBoxModel",
          "model_module_version": "1.5.0",
          "state": {
            "_dom_classes": [],
            "_model_module": "@jupyter-widgets/controls",
            "_model_module_version": "1.5.0",
            "_model_name": "HBoxModel",
            "_view_count": null,
            "_view_module": "@jupyter-widgets/controls",
            "_view_module_version": "1.5.0",
            "_view_name": "HBoxView",
            "box_style": "",
            "children": [
              "IPY_MODEL_393416b663f14e6e800bccc5f9dc8d72",
              "IPY_MODEL_6e9ece05f3bd4cddb847369d36e5fc1c",
              "IPY_MODEL_4f111e94af674ffbad91cf49e52143c5"
            ],
            "layout": "IPY_MODEL_2c43d172ca7c4cbda60a4c2311023fe4"
          }
        },
        "393416b663f14e6e800bccc5f9dc8d72": {
          "model_module": "@jupyter-widgets/controls",
          "model_name": "HTMLModel",
          "model_module_version": "1.5.0",
          "state": {
            "_dom_classes": [],
            "_model_module": "@jupyter-widgets/controls",
            "_model_module_version": "1.5.0",
            "_model_name": "HTMLModel",
            "_view_count": null,
            "_view_module": "@jupyter-widgets/controls",
            "_view_module_version": "1.5.0",
            "_view_name": "HTMLView",
            "description": "",
            "description_tooltip": null,
            "layout": "IPY_MODEL_321d5be1195948cab34279f0e80b0812",
            "placeholder": "​",
            "style": "IPY_MODEL_131966ba9a1e45799888cf94ca6131d3",
            "value": "100%"
          }
        },
        "6e9ece05f3bd4cddb847369d36e5fc1c": {
          "model_module": "@jupyter-widgets/controls",
          "model_name": "FloatProgressModel",
          "model_module_version": "1.5.0",
          "state": {
            "_dom_classes": [],
            "_model_module": "@jupyter-widgets/controls",
            "_model_module_version": "1.5.0",
            "_model_name": "FloatProgressModel",
            "_view_count": null,
            "_view_module": "@jupyter-widgets/controls",
            "_view_module_version": "1.5.0",
            "_view_name": "ProgressView",
            "bar_style": "success",
            "description": "",
            "description_tooltip": null,
            "layout": "IPY_MODEL_43ab0767f4274ab2b1ee085497b34ac6",
            "max": 6,
            "min": 0,
            "orientation": "horizontal",
            "style": "IPY_MODEL_28c47b15cd0f4d2d83b199462f197330",
            "value": 6
          }
        },
        "4f111e94af674ffbad91cf49e52143c5": {
          "model_module": "@jupyter-widgets/controls",
          "model_name": "HTMLModel",
          "model_module_version": "1.5.0",
          "state": {
            "_dom_classes": [],
            "_model_module": "@jupyter-widgets/controls",
            "_model_module_version": "1.5.0",
            "_model_name": "HTMLModel",
            "_view_count": null,
            "_view_module": "@jupyter-widgets/controls",
            "_view_module_version": "1.5.0",
            "_view_name": "HTMLView",
            "description": "",
            "description_tooltip": null,
            "layout": "IPY_MODEL_10f1b9c5b23b40a8b7912c93ec181ddb",
            "placeholder": "​",
            "style": "IPY_MODEL_ff592d46128c44fdb1ed7ffae06589ae",
            "value": " 6/6 [04:49&lt;00:00, 44.29s/it]"
          }
        },
        "2c43d172ca7c4cbda60a4c2311023fe4": {
          "model_module": "@jupyter-widgets/base",
          "model_name": "LayoutModel",
          "model_module_version": "1.2.0",
          "state": {
            "_model_module": "@jupyter-widgets/base",
            "_model_module_version": "1.2.0",
            "_model_name": "LayoutModel",
            "_view_count": null,
            "_view_module": "@jupyter-widgets/base",
            "_view_module_version": "1.2.0",
            "_view_name": "LayoutView",
            "align_content": null,
            "align_items": null,
            "align_self": null,
            "border": null,
            "bottom": null,
            "display": null,
            "flex": null,
            "flex_flow": null,
            "grid_area": null,
            "grid_auto_columns": null,
            "grid_auto_flow": null,
            "grid_auto_rows": null,
            "grid_column": null,
            "grid_gap": null,
            "grid_row": null,
            "grid_template_areas": null,
            "grid_template_columns": null,
            "grid_template_rows": null,
            "height": null,
            "justify_content": null,
            "justify_items": null,
            "left": null,
            "margin": null,
            "max_height": null,
            "max_width": null,
            "min_height": null,
            "min_width": null,
            "object_fit": null,
            "object_position": null,
            "order": null,
            "overflow": null,
            "overflow_x": null,
            "overflow_y": null,
            "padding": null,
            "right": null,
            "top": null,
            "visibility": null,
            "width": null
          }
        },
        "321d5be1195948cab34279f0e80b0812": {
          "model_module": "@jupyter-widgets/base",
          "model_name": "LayoutModel",
          "model_module_version": "1.2.0",
          "state": {
            "_model_module": "@jupyter-widgets/base",
            "_model_module_version": "1.2.0",
            "_model_name": "LayoutModel",
            "_view_count": null,
            "_view_module": "@jupyter-widgets/base",
            "_view_module_version": "1.2.0",
            "_view_name": "LayoutView",
            "align_content": null,
            "align_items": null,
            "align_self": null,
            "border": null,
            "bottom": null,
            "display": null,
            "flex": null,
            "flex_flow": null,
            "grid_area": null,
            "grid_auto_columns": null,
            "grid_auto_flow": null,
            "grid_auto_rows": null,
            "grid_column": null,
            "grid_gap": null,
            "grid_row": null,
            "grid_template_areas": null,
            "grid_template_columns": null,
            "grid_template_rows": null,
            "height": null,
            "justify_content": null,
            "justify_items": null,
            "left": null,
            "margin": null,
            "max_height": null,
            "max_width": null,
            "min_height": null,
            "min_width": null,
            "object_fit": null,
            "object_position": null,
            "order": null,
            "overflow": null,
            "overflow_x": null,
            "overflow_y": null,
            "padding": null,
            "right": null,
            "top": null,
            "visibility": null,
            "width": null
          }
        },
        "131966ba9a1e45799888cf94ca6131d3": {
          "model_module": "@jupyter-widgets/controls",
          "model_name": "DescriptionStyleModel",
          "model_module_version": "1.5.0",
          "state": {
            "_model_module": "@jupyter-widgets/controls",
            "_model_module_version": "1.5.0",
            "_model_name": "DescriptionStyleModel",
            "_view_count": null,
            "_view_module": "@jupyter-widgets/base",
            "_view_module_version": "1.2.0",
            "_view_name": "StyleView",
            "description_width": ""
          }
        },
        "43ab0767f4274ab2b1ee085497b34ac6": {
          "model_module": "@jupyter-widgets/base",
          "model_name": "LayoutModel",
          "model_module_version": "1.2.0",
          "state": {
            "_model_module": "@jupyter-widgets/base",
            "_model_module_version": "1.2.0",
            "_model_name": "LayoutModel",
            "_view_count": null,
            "_view_module": "@jupyter-widgets/base",
            "_view_module_version": "1.2.0",
            "_view_name": "LayoutView",
            "align_content": null,
            "align_items": null,
            "align_self": null,
            "border": null,
            "bottom": null,
            "display": null,
            "flex": null,
            "flex_flow": null,
            "grid_area": null,
            "grid_auto_columns": null,
            "grid_auto_flow": null,
            "grid_auto_rows": null,
            "grid_column": null,
            "grid_gap": null,
            "grid_row": null,
            "grid_template_areas": null,
            "grid_template_columns": null,
            "grid_template_rows": null,
            "height": null,
            "justify_content": null,
            "justify_items": null,
            "left": null,
            "margin": null,
            "max_height": null,
            "max_width": null,
            "min_height": null,
            "min_width": null,
            "object_fit": null,
            "object_position": null,
            "order": null,
            "overflow": null,
            "overflow_x": null,
            "overflow_y": null,
            "padding": null,
            "right": null,
            "top": null,
            "visibility": null,
            "width": null
          }
        },
        "28c47b15cd0f4d2d83b199462f197330": {
          "model_module": "@jupyter-widgets/controls",
          "model_name": "ProgressStyleModel",
          "model_module_version": "1.5.0",
          "state": {
            "_model_module": "@jupyter-widgets/controls",
            "_model_module_version": "1.5.0",
            "_model_name": "ProgressStyleModel",
            "_view_count": null,
            "_view_module": "@jupyter-widgets/base",
            "_view_module_version": "1.2.0",
            "_view_name": "StyleView",
            "bar_color": null,
            "description_width": ""
          }
        },
        "10f1b9c5b23b40a8b7912c93ec181ddb": {
          "model_module": "@jupyter-widgets/base",
          "model_name": "LayoutModel",
          "model_module_version": "1.2.0",
          "state": {
            "_model_module": "@jupyter-widgets/base",
            "_model_module_version": "1.2.0",
            "_model_name": "LayoutModel",
            "_view_count": null,
            "_view_module": "@jupyter-widgets/base",
            "_view_module_version": "1.2.0",
            "_view_name": "LayoutView",
            "align_content": null,
            "align_items": null,
            "align_self": null,
            "border": null,
            "bottom": null,
            "display": null,
            "flex": null,
            "flex_flow": null,
            "grid_area": null,
            "grid_auto_columns": null,
            "grid_auto_flow": null,
            "grid_auto_rows": null,
            "grid_column": null,
            "grid_gap": null,
            "grid_row": null,
            "grid_template_areas": null,
            "grid_template_columns": null,
            "grid_template_rows": null,
            "height": null,
            "justify_content": null,
            "justify_items": null,
            "left": null,
            "margin": null,
            "max_height": null,
            "max_width": null,
            "min_height": null,
            "min_width": null,
            "object_fit": null,
            "object_position": null,
            "order": null,
            "overflow": null,
            "overflow_x": null,
            "overflow_y": null,
            "padding": null,
            "right": null,
            "top": null,
            "visibility": null,
            "width": null
          }
        },
        "ff592d46128c44fdb1ed7ffae06589ae": {
          "model_module": "@jupyter-widgets/controls",
          "model_name": "DescriptionStyleModel",
          "model_module_version": "1.5.0",
          "state": {
            "_model_module": "@jupyter-widgets/controls",
            "_model_module_version": "1.5.0",
            "_model_name": "DescriptionStyleModel",
            "_view_count": null,
            "_view_module": "@jupyter-widgets/base",
            "_view_module_version": "1.2.0",
            "_view_name": "StyleView",
            "description_width": ""
          }
        }
      }
    }
  },
  "cells": [
    {
      "cell_type": "markdown",
      "metadata": {
        "id": "view-in-github",
        "colab_type": "text"
      },
      "source": [
        "<a href=\"https://colab.research.google.com/github/rpast/AudioTrans/blob/main/AudioTrans_v_0_4.ipynb\" target=\"_parent\"><img src=\"https://colab.research.google.com/assets/colab-badge.svg\" alt=\"Open In Colab\"/></a>"
      ]
    },
    {
      "cell_type": "markdown",
      "source": [
        "# AudioTrans v.0.4\n",
        "## Open AI, Whisper, Audio->Text\n",
        "\n",
        "---\n",
        "\n",
        "Ten notatnik pozwala na transkrypcje dowolnej ilosci plikow audio zapisanych na Google Drive na tekst pisany. Umozliwia on takze sciagniecie transkryptu filmu z YouTube.\n",
        "\n",
        "### Aby zaczac:\n",
        "1. Załóż konto w Open AI (przejdź do tej strony i kliknij 'Get started' w tekscie: https://openai.com/blog/introducing-chatgpt-and-whisper-apis).\n",
        "2. Wygeneruj klucz API w ustawieniach konta i 'View API keys' i nikomu go nie udostępniaj.\n",
        "3. W wersji trial otrzymasz kilka $ na zabawę. Jak chcesz bawić się dłużej to musisz spiąć konto z kartą kredytową w ustawieniach konta > billing\n",
        "\n",
        "### Dokumentacja API:\n",
        "https://github.com/openai/whisper\n",
        "\n",
        "### ROADMAP:\n",
        "1. [x] Load all files in given directory\n",
        "2. [x] Chop audio by its size (<20mb), pass to whisper, bind together\n",
        "3. [ ] Join transcript files together (in Pandas dataframe)"
      ],
      "metadata": {
        "id": "f6PXyOy4GGiQ"
      }
    },
    {
      "cell_type": "markdown",
      "source": [
        "# 0. Ustawienia skryptu"
      ],
      "metadata": {
        "id": "hymk8yyLRqKR"
      }
    },
    {
      "cell_type": "code",
      "source": [
        "# Zainstaluj biblioteke Open AI\n",
        "!pip install --upgrade pip\n",
        "!pip install openai\n",
        "!pip install langchain\n",
        "!pip install youtube-transcript-api\n",
        "!pip install pydub\n",
        "!pip install mutagen"
      ],
      "metadata": {
        "id": "Ry9gUrX_d_R2"
      },
      "execution_count": null,
      "outputs": []
    },
    {
      "cell_type": "code",
      "execution_count": 33,
      "metadata": {
        "id": "nXzEoqDUd178"
      },
      "outputs": [],
      "source": [
        "# Importuj biblioteki\n",
        "import openai\n",
        "import datetime\n",
        "import unicodedata\n",
        "import os\n",
        "\n",
        "from multiprocessing import Pool\n",
        "from pathlib import Path\n",
        "from mutagen.mp3 import MP3\n",
        "from google.colab import drive\n",
        "from pydub import AudioSegment\n",
        "from tqdm.notebook import tqdm\n",
        "from langchain.document_loaders import YoutubeLoader"
      ]
    },
    {
      "cell_type": "code",
      "source": [
        "# Podłącz dysk google\n",
        "drive.mount('/content/drive')"
      ],
      "metadata": {
        "colab": {
          "base_uri": "https://localhost:8080/"
        },
        "id": "ik0M9aafd5Fp",
        "outputId": "44633633-f1fd-449b-b4c0-0a92d0efc5b0"
      },
      "execution_count": 13,
      "outputs": [
        {
          "output_type": "stream",
          "name": "stdout",
          "text": [
            "Drive already mounted at /content/drive; to attempt to forcibly remount, call drive.mount(\"/content/drive\", force_remount=True).\n"
          ]
        }
      ]
    },
    {
      "cell_type": "code",
      "source": [
        "## FUNCTIONS\n",
        "\n",
        "# Functions below are for identifying the size of the audio file and for\n",
        "# chopping it to smaller pieces if it is >24mb. The reason for that is Whisper\n",
        "# wont take files larger than ~26mbs. \n",
        "# Functions are intended to use in batch processing and only for mp3 files.\n",
        "#\n",
        "def save_audio_file(piece, file_name, output_folder, file_num='', suffix='_part'):\n",
        "    \"\"\"\n",
        "    Saves an audio segment as a new file in the specified output folder.\n",
        "    \n",
        "    Args:\n",
        "        piece (pydub.AudioSegment): The audio segment to be saved.\n",
        "        file_name (str): The base file name without an extension (e.g., \"audiofile\").\n",
        "        output_folder (str): The path to the folder where the file should be saved.\n",
        "        file_num (str or int, optional): A numeric identifier to append to the file name.\n",
        "                                         Defaults to an empty string.\n",
        "        suffix (str, optional): A suffix to append to the file name, before the file number.\n",
        "                                Defaults to '_part'.\n",
        "\n",
        "    Returns:\n",
        "        None\n",
        "    \"\"\"\n",
        "    \n",
        "    file_name_part = f\"{file_name}{suffix}{file_num}.mp3\"\n",
        "    output_file = os.path.join(output_folder, file_name_part)\n",
        "    piece.export(output_file, format=\"mp3\")\n",
        "#\n",
        "# Makes use of ^\n",
        "def chop_audio(input_file, output_folder, max_size_mb=24):\n",
        "    \"\"\"\n",
        "    Splits an audio file into smaller pieces of approximately equal size, and \n",
        "    saves them as separate files in the specified output folder. If the input \n",
        "    audio file is smaller than the target size, it will be saved as-is with \n",
        "    the suffix '_main'.\n",
        "\n",
        "    Args:\n",
        "        input_file (str): The path to the input audio file.\n",
        "        output_folder (str): The path to the folder where the chopped audio \n",
        "                             pieces should be saved.\n",
        "        max_size_mb (int, optional): The maximum size of each chopped audio \n",
        "                                     piece in megabytes. Defaults to 24 MB.\n",
        "\n",
        "    Returns:\n",
        "        None\n",
        "    \"\"\"\n",
        "\n",
        "    # TODO: rewrite with pathlib\n",
        "    file_name = os.path.splitext(os.path.basename(input_file))[0]\n",
        "\n",
        "    # Load audio file\n",
        "    audio = AudioSegment.from_file(input_file)\n",
        "    \n",
        "    # Get the duration of the input file using mutagen\n",
        "    audio_info = MP3(input_file)\n",
        "    duration = audio_info.info.length\n",
        "\n",
        "    # Calculate the size of each piece in milliseconds\n",
        "    input_file_size = os.path.getsize(input_file)\n",
        "    target_piece_size_bytes = max_size_mb * 1024 * 1024\n",
        "    target_piece_duration_seconds = (target_piece_size_bytes / input_file_size) * duration\n",
        "    target_piece_duration_ms = target_piece_duration_seconds * 1000\n",
        "\n",
        "    if len(audio) <= target_piece_duration_ms:\n",
        "        # Save the piece in proc dir with no suffix\n",
        "        save_audio_file(audio, file_name, output_folder, suffix='_main')\n",
        "    else:\n",
        "        # Chop the audio and save the pieces\n",
        "        current_ms = 0\n",
        "        file_num = 1\n",
        "        while current_ms < len(audio):\n",
        "            # Calculate end time for the current piece\n",
        "            end_ms = min(current_ms + target_piece_duration_ms, len(audio))\n",
        "\n",
        "            # Extract the piece\n",
        "            piece = audio[current_ms:end_ms]\n",
        "\n",
        "            # Save the piece as a new file\n",
        "            save_audio_file(piece, file_name, output_folder, file_num=str(file_num), suffix='_part')\n",
        "\n",
        "            # Move on to the next piece\n",
        "            current_ms = end_ms\n",
        "            file_num += 1\n",
        "\n",
        "\n",
        "## Function below is used for saving the transcription into the txt file\n",
        "def save_from_file(f, spth, txt, suffix):\n",
        "    \"\"\"\n",
        "    Saves the given text to a file with a specified suffix in the \n",
        "    specified folder.\n",
        "\n",
        "    Args:\n",
        "        f (pathlib.Path): The input file path, used to derive the base file name.\n",
        "        spth (str): The path to the folder where the output text file should be saved.\n",
        "        txt (str): The text content to be written to the output file.\n",
        "        suffix (str): The suffix to append to the base file name for the output file.\n",
        "\n",
        "    Returns:\n",
        "        None\n",
        "    \"\"\"\n",
        "\n",
        "    # Zapisz plik txt\n",
        "    fname = f.stem + suffix\n",
        "\n",
        "    fpth = Path(spth) / fname\n",
        "    with open(fpth, 'w') as f:\n",
        "        f.write(txt)\n",
        "    print('Tekst zapisano pod sciezka: ', fpth)"
      ],
      "metadata": {
        "id": "UdYgM2CPIH-9"
      },
      "execution_count": 36,
      "outputs": []
    },
    {
      "cell_type": "markdown",
      "source": [
        "# 1. Parametry"
      ],
      "metadata": {
        "id": "E-Yiq6rTH-60"
      }
    },
    {
      "cell_type": "code",
      "source": [
        "# Set script parameters \n",
        "\n",
        "#@markdown ## Wprowadź swój klucz API\n",
        "api_key = ''#@param {type:\"string\"}\n",
        "\n",
        "#@markdown ---\n",
        "#@markdown ## Zdecyduj czy transkrypcja z plikow mp3 czy z YouTube\n",
        "\n",
        "#@markdown ### Jesli z plikow:\n",
        "#@markdown Wklej ścieżkę do folderu, w ktorym znajduja sie pliki mp3\n",
        "input_dir = \"/content/drive/MyDrive/AI/Whisper/Burbea-in\" #@param {type:\"string\"}\n",
        "#@markdown Wklej sciezke do folderu, gdzie maja byc zapisane pociete pliki audio\n",
        "interim_dir = \"/content/drive/MyDrive/AI/Whisper/Burbea-interim\" #@param {type:\"string\"}\n",
        "#\n",
        "\n",
        "#@markdown ### Jesli z You Tube:\n",
        "#@markdown Wklej URL filmu\n",
        "yt_url = ''#@param {type:\"string\"}\n",
        "#@markdown ---\n",
        "\n",
        "#@markdown ## Zdefiniuj gdzie zapisac transkrypt\n",
        "#@markdown Wklej ścieżkę do folderu na Google Drive, gdzie ma zostac zapisany transkrypt.\n",
        "output_dir = \"/content/drive/MyDrive/AI/Whisper/Burbea-out\" #@param {type:\"string\"}\n",
        "\n",
        "## FLAGS\n",
        "from_file = False\n",
        "from_yt = False\n",
        "\n",
        "if len(input_dir) > 1:\n",
        "    from_file = True\n",
        "elif len(yt_url) > 1:\n",
        "    from_yt = True"
      ],
      "metadata": {
        "cellView": "form",
        "id": "Gz9wC6g6ldiU"
      },
      "execution_count": 38,
      "outputs": []
    },
    {
      "cell_type": "markdown",
      "source": [
        "# 2. Pre-processing audio"
      ],
      "metadata": {
        "id": "vY4lC3aroJCk"
      }
    },
    {
      "cell_type": "code",
      "source": [
        "if from_file:\n",
        "    # The script should be pointed to a dir with mp3 files.\n",
        "    # The pipeline is as follows: for each mp3 file in directory >\n",
        "    # read file > chop if necessary > save in the interim folder\n",
        "    # the interim folder will serve as a source for whisper model\n",
        "\n",
        "    input_files = [x for x in Path(input_dir).glob('*')]\n",
        "\n",
        "    # Set the number of processes to the number of CPU cores available\n",
        "    num_processes = os.cpu_count()\n",
        "\n",
        "    def process_file(input_file):\n",
        "        \"\"\" For the need of paralel processing\n",
        "        \"\"\"\n",
        "        chop_audio(input_file, interim_dir)\n",
        "\n",
        "    # Use a multiprocessing Pool to process files in parallel\n",
        "    with Pool(num_processes) as p:\n",
        "        for _ in tqdm(\n",
        "            p.imap_unordered(process_file, input_files), \n",
        "            total=len(input_files)\n",
        "            ):\n",
        "            pass\n",
        "\n",
        "    # Classical approach:\n",
        "    # for f_ in tqdm(input_files):\n",
        "    #     chop_audio(f_, output_dir)\n",
        "elif from_yt:\n",
        "    # YT transcript doesnt require audio file manipulation\n",
        "    pass\n",
        "else:\n",
        "    print('Uwaga: przynajmniej jedna flaga powinna byc True')"
      ],
      "metadata": {
        "colab": {
          "base_uri": "https://localhost:8080/",
          "height": 84,
          "referenced_widgets": [
            "22123b0ec9d84e2386b15b43dadd25cb",
            "0e5131aa6f2b4c608f9452673f7b02e2",
            "0cbeb94ff8a448e387877907ce13397a",
            "f1c1a18d436446edae24f2b372ab2a4a",
            "6f23e0ef125b419d8e1038f576ade252",
            "b6740a9103da4f40b02bb10456e38e27",
            "c02989c1a8eb49c5975c36e60081ac3c",
            "a5c5ef1318ef415f9ef9d6d9f554590c",
            "4f60038de7b64026956f7221de84b0c8",
            "695bbb3b922f41379bcb3295049db3d0",
            "0e68d1d1b3cc4718b4f3577f65e4b89f"
          ]
        },
        "id": "2nXHrsHrgIsU",
        "outputId": "6b809339-7246-4fab-f930-c0ae48f5e410"
      },
      "execution_count": 34,
      "outputs": [
        {
          "output_type": "stream",
          "name": "stdout",
          "text": [
            "2\n"
          ]
        },
        {
          "output_type": "display_data",
          "data": {
            "text/plain": [
              "  0%|          | 0/3 [00:00<?, ?it/s]"
            ],
            "application/vnd.jupyter.widget-view+json": {
              "version_major": 2,
              "version_minor": 0,
              "model_id": "22123b0ec9d84e2386b15b43dadd25cb"
            }
          },
          "metadata": {}
        },
        {
          "output_type": "stream",
          "name": "stdout",
          "text": [
            "rozmiar ok\n"
          ]
        }
      ]
    },
    {
      "cell_type": "markdown",
      "source": [
        "# 3. Transkrypcja"
      ],
      "metadata": {
        "id": "HdyGJQYdTXFh"
      }
    },
    {
      "cell_type": "code",
      "source": [
        "if from_yt:\n",
        "    loader = YoutubeLoader.from_youtube_url(yt_url, add_video_info=False)\n",
        "    text = loader.load()\n",
        "    text = text[0].page_content\n",
        "    # Popraw kodowanie znaków\n",
        "    normalized_text = unicodedata.normalize('NFKC', text)\n",
        "    new_decoded_text = normalized_text.replace('\\n', ' ').strip()\n",
        "    \n",
        "\n",
        "#@markdown ## Jesli transkrybujesz z pliku:\n",
        "if from_file:\n",
        "    #@markdown Wpisz z jakiego jezyka dokonujesz transkrypcji\n",
        "    lang_selected = \"en\" #@param lang {input: \"string\"}\n",
        "    openai.api_key = api_key\n",
        "    to_transcribe = [x for x in Path(interim_dir).glob('*')]\n",
        "    print(f'Transkrypcja {len(to_transcribe)} plikow.')\n",
        "\n",
        "    for f_ in tqdm(to_transcribe):\n",
        "        audio_file= open(f_, \"rb\")\n",
        "        transcript = openai.Audio.transcribe(\n",
        "            \"whisper-1\", \n",
        "            audio_file, \n",
        "            language=lang_selected\n",
        "            )\n",
        "        text = transcript['text']\n",
        "        # Popraw kodowanie znaków\n",
        "        normalized_text = unicodedata.normalize('NFKC', text)\n",
        "        new_decoded_text = normalized_text.replace('\\n', ' ').strip()\n",
        "\n",
        "        save_from_file(f_, output_dir, new_decoded_text, '.txt')\n",
        "\n",
        "#@markdown ---\n",
        "#@markdown ## Jesli transkrybujesz z You Tube\n",
        "#@markdown transkrypt jest dostepny pod zmienna _new_decoded_text_"
      ],
      "metadata": {
        "id": "C_0r-ZgqeeEk",
        "cellView": "form",
        "colab": {
          "base_uri": "https://localhost:8080/",
          "height": 191,
          "referenced_widgets": [
            "75dfe25e95c94ca1b2fe7894ac3dd379",
            "393416b663f14e6e800bccc5f9dc8d72",
            "6e9ece05f3bd4cddb847369d36e5fc1c",
            "4f111e94af674ffbad91cf49e52143c5",
            "2c43d172ca7c4cbda60a4c2311023fe4",
            "321d5be1195948cab34279f0e80b0812",
            "131966ba9a1e45799888cf94ca6131d3",
            "43ab0767f4274ab2b1ee085497b34ac6",
            "28c47b15cd0f4d2d83b199462f197330",
            "10f1b9c5b23b40a8b7912c93ec181ddb",
            "ff592d46128c44fdb1ed7ffae06589ae"
          ]
        },
        "outputId": "fb7da96b-eeb8-4c65-a7c4-9c17fbb5faeb"
      },
      "execution_count": 39,
      "outputs": [
        {
          "output_type": "stream",
          "name": "stdout",
          "text": [
            "Transkrypcja 6 plikow.\n"
          ]
        },
        {
          "output_type": "display_data",
          "data": {
            "text/plain": [
              "  0%|          | 0/6 [00:00<?, ?it/s]"
            ],
            "application/vnd.jupyter.widget-view+json": {
              "version_major": 2,
              "version_minor": 0,
              "model_id": "75dfe25e95c94ca1b2fe7894ac3dd379"
            }
          },
          "metadata": {}
        },
        {
          "output_type": "stream",
          "name": "stdout",
          "text": [
            "Tekst zapisano pod sciezka:  /content/drive/MyDrive/AI/Whisper/Burbea-out/20051105-Rob_Burbea-GAIA-mindfulness_of_mind_states-21010_part1.txt\n",
            "Tekst zapisano pod sciezka:  /content/drive/MyDrive/AI/Whisper/Burbea-out/20051112-Rob_Burbea-GAIA-contemplating_the_3_characteristics_pt_1_impermanence_and_dukkha-21008_part1.txt\n",
            "Tekst zapisano pod sciezka:  /content/drive/MyDrive/AI/Whisper/Burbea-out/20051105-Rob_Burbea-GAIA-mindfulness_of_mind_states-21010_part2.txt\n",
            "Tekst zapisano pod sciezka:  /content/drive/MyDrive/AI/Whisper/Burbea-out/20051112-Rob_Burbea-GAIA-contemplating_the_3_characteristics_pt_1_impermanence_and_dukkha-21008_part2.txt\n",
            "Tekst zapisano pod sciezka:  /content/drive/MyDrive/AI/Whisper/Burbea-out/20061104-Rob_Burbea-GAIA-from_feelings_to_freedom_exploring_vedana-12482_main.txt\n",
            "Tekst zapisano pod sciezka:  /content/drive/MyDrive/AI/Whisper/Burbea-out/20051112-Rob_Burbea-GAIA-contemplating_the_3_characteristics_pt_1_impermanence_and_dukkha-21008_part3.txt\n"
          ]
        }
      ]
    },
    {
      "cell_type": "markdown",
      "source": [
        "# 5. Tlumaczenie (Nie dziala)"
      ],
      "metadata": {
        "id": "NR2g70dnCITy"
      }
    },
    {
      "cell_type": "code",
      "source": [
        "#@markdown Uruchom te komorke, by przetlumaczyc transkrybowany tekst\n",
        "\n",
        "#@markdown Instrukcja tlumaczenia\n",
        "trans_inst = 'Przetlumacz z Angielskiego na Polski'#@param {type:\"string\"}\n",
        "\n",
        "def chat_completion_response(instr, text):\n",
        "        \"\"\"Makes API call to OpenAI's chat completion endpoint.\n",
        "        \"\"\"\n",
        "\n",
        "        api_response = openai.ChatCompletion.create(\n",
        "            model=\"gpt-3.5-turbo\",\n",
        "            messages=[\n",
        "                {\"role\": \"system\", \"content\": \"Translate according to instruction given in user message. Return only translated text. Nothing more\"},\n",
        "                {\"role\": \"user\", \"content\": f'{instr}: {text}'}\n",
        "                ]\n",
        "        )\n",
        "                \n",
        "\n",
        "        return api_response\n",
        "\n",
        "\n",
        "new_translated_text = chat_completion_response(\n",
        "    trans_inst, \n",
        "    new_decoded_text\n",
        "    )\n",
        "\n"
      ],
      "metadata": {
        "cellView": "form",
        "id": "H1BVbCl6CMQz"
      },
      "execution_count": null,
      "outputs": []
    },
    {
      "cell_type": "code",
      "source": [
        "new_translated_text"
      ],
      "metadata": {
        "id": "o_SbCdT0hE_a"
      },
      "execution_count": null,
      "outputs": []
    },
    {
      "cell_type": "code",
      "source": [
        "#@markdown Uruchom, by wyswietlic i zapisac tlumaczenie\n",
        "if len(file_save_path) > 1:\n",
        "    save_to_file(\n",
        "        file_read_path,\n",
        "        yt_url,\n",
        "        file_save_path,\n",
        "        new_translated_text,\n",
        "        '_tlumaczenie.txt',\n",
        "        f=from_file,\n",
        "        yt=from_yt\n",
        "    )\n",
        "\n",
        "print('Tlumaczenie:')\n",
        "new_translated_text"
      ],
      "metadata": {
        "id": "WNbRk7olD2KZ",
        "cellView": "form"
      },
      "execution_count": null,
      "outputs": []
    }
  ]
}